{
 "cells": [
  {
   "cell_type": "markdown",
   "metadata": {
    "colab_type": "text",
    "id": "aKqoPMI1p4Nx"
   },
   "source": [
    "We will use Google Colaboratory to write and execute a Python program interactively via a web browser. The Colaboratory is a free cloud service hosted by Google that requires no setup.\n"
   ]
  },
  {
   "cell_type": "markdown",
   "metadata": {
    "colab_type": "text",
    "id": "QK1bSLfvkmv2"
   },
   "source": [
    "**Linear Regression Using scikit-learn for Advertising Problem**\n",
    "\n",
    "\n",
    "What are the features?\n",
    "* TV: advertising dollars spent on TV for a single product in a given market (in thousands of dollars)\n",
    "* Radio: advertising dollars spent on Radio\n",
    "* Newspaper: advertising dollars spent on Newspaper\n",
    "\n",
    "What is the response?\n",
    "* Sales: sales of a single product in a given market (in thousands of items)\n",
    "\n",
    "What else do we know?\n",
    "* Because the response variable is quantitative, this is a regression problem.\n",
    "* There are 200 observations (represented by the rows), and each observation is a single market.\n",
    "\n"
   ]
  },
  {
   "cell_type": "markdown",
   "metadata": {
    "colab_type": "text",
    "id": "LW9UtJqVrU2D"
   },
   "source": [
    "**Pandas**\n",
    "*   use the pandas library to read data into Python\n",
    "*   pandas is an open source library providing high-performance\n",
    "*   easy-to-use data structures and data analysis tools for the Python programming \n"
   ]
  },
  {
   "cell_type": "code",
   "execution_count": 140,
   "metadata": {
    "colab": {
     "base_uri": "https://localhost:8080/",
     "height": 317
    },
    "colab_type": "code",
    "id": "TDgwLehGp2S-",
    "outputId": "1d385721-4e88-49ff-f975-a723997786d8"
   },
   "outputs": [],
   "source": [
    "import pandas as pd"
   ]
  },
  {
   "cell_type": "code",
   "execution_count": 154,
   "metadata": {},
   "outputs": [],
   "source": [
    "import patsy\n",
    "from patsy import dmatrices"
   ]
  },
  {
   "cell_type": "markdown",
   "metadata": {
    "colab_type": "text",
    "id": "cd90aYYDqgBq"
   },
   "source": [
    "read CSV file directly from a URL and save the results"
   ]
  },
  {
   "cell_type": "code",
   "execution_count": 172,
   "metadata": {
    "colab": {
     "base_uri": "https://localhost:8080/",
     "height": 71,
     "resources": {
      "http://localhost:8080/nbextensions/google.colab/files.js": {
       "data": "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",
       "headers": [
        [
         "content-type",
         "application/javascript"
        ]
       ],
       "ok": true,
       "status": 200,
       "status_text": ""
      }
     }
    },
    "colab_type": "code",
    "id": "3pjRdXxgqjkF",
    "outputId": "bbfbc1ae-432f-48df-bf3b-5de2003c55c9"
   },
   "outputs": [],
   "source": [
    "data = pd.read_csv(\"ToyotaCorolla.csv\")"
   ]
  },
  {
   "cell_type": "markdown",
   "metadata": {
    "colab_type": "text",
    "id": "YQisvN2SqnCY"
   },
   "source": [
    "display the first 5 rows"
   ]
  },
  {
   "cell_type": "code",
   "execution_count": 173,
   "metadata": {
    "colab": {
     "base_uri": "https://localhost:8080/",
     "height": 204
    },
    "colab_type": "code",
    "id": "8M62KAAwqpsM",
    "outputId": "76e9ae99-fb7d-46b1-faa3-57b980f0a038"
   },
   "outputs": [
    {
     "data": {
      "text/html": [
       "<div>\n",
       "<style scoped>\n",
       "    .dataframe tbody tr th:only-of-type {\n",
       "        vertical-align: middle;\n",
       "    }\n",
       "\n",
       "    .dataframe tbody tr th {\n",
       "        vertical-align: top;\n",
       "    }\n",
       "\n",
       "    .dataframe thead th {\n",
       "        text-align: right;\n",
       "    }\n",
       "</style>\n",
       "<table border=\"1\" class=\"dataframe\">\n",
       "  <thead>\n",
       "    <tr style=\"text-align: right;\">\n",
       "      <th></th>\n",
       "      <th>Price</th>\n",
       "      <th>Age</th>\n",
       "      <th>Mileage</th>\n",
       "      <th>FuelType</th>\n",
       "      <th>Horsepower</th>\n",
       "      <th>MetColor</th>\n",
       "      <th>Automatic</th>\n",
       "      <th>Displacement</th>\n",
       "      <th>Doors</th>\n",
       "      <th>Weight</th>\n",
       "    </tr>\n",
       "  </thead>\n",
       "  <tbody>\n",
       "    <tr>\n",
       "      <td>0</td>\n",
       "      <td>16605</td>\n",
       "      <td>23</td>\n",
       "      <td>29196</td>\n",
       "      <td>Diesel</td>\n",
       "      <td>90</td>\n",
       "      <td>1</td>\n",
       "      <td>0</td>\n",
       "      <td>122</td>\n",
       "      <td>3</td>\n",
       "      <td>2568</td>\n",
       "    </tr>\n",
       "    <tr>\n",
       "      <td>1</td>\n",
       "      <td>16913</td>\n",
       "      <td>23</td>\n",
       "      <td>45321</td>\n",
       "      <td>Diesel</td>\n",
       "      <td>90</td>\n",
       "      <td>1</td>\n",
       "      <td>0</td>\n",
       "      <td>122</td>\n",
       "      <td>3</td>\n",
       "      <td>2568</td>\n",
       "    </tr>\n",
       "    <tr>\n",
       "      <td>2</td>\n",
       "      <td>17159</td>\n",
       "      <td>24</td>\n",
       "      <td>25918</td>\n",
       "      <td>Diesel</td>\n",
       "      <td>90</td>\n",
       "      <td>1</td>\n",
       "      <td>0</td>\n",
       "      <td>122</td>\n",
       "      <td>3</td>\n",
       "      <td>2568</td>\n",
       "    </tr>\n",
       "    <tr>\n",
       "      <td>3</td>\n",
       "      <td>18389</td>\n",
       "      <td>26</td>\n",
       "      <td>29826</td>\n",
       "      <td>Diesel</td>\n",
       "      <td>90</td>\n",
       "      <td>0</td>\n",
       "      <td>0</td>\n",
       "      <td>122</td>\n",
       "      <td>3</td>\n",
       "      <td>2568</td>\n",
       "    </tr>\n",
       "    <tr>\n",
       "      <td>4</td>\n",
       "      <td>16913</td>\n",
       "      <td>30</td>\n",
       "      <td>23923</td>\n",
       "      <td>Diesel</td>\n",
       "      <td>90</td>\n",
       "      <td>0</td>\n",
       "      <td>0</td>\n",
       "      <td>122</td>\n",
       "      <td>3</td>\n",
       "      <td>2579</td>\n",
       "    </tr>\n",
       "  </tbody>\n",
       "</table>\n",
       "</div>"
      ],
      "text/plain": [
       "   Price  Age  Mileage FuelType  Horsepower  MetColor  Automatic  \\\n",
       "0  16605   23    29196   Diesel          90         1          0   \n",
       "1  16913   23    45321   Diesel          90         1          0   \n",
       "2  17159   24    25918   Diesel          90         1          0   \n",
       "3  18389   26    29826   Diesel          90         0          0   \n",
       "4  16913   30    23923   Diesel          90         0          0   \n",
       "\n",
       "   Displacement  Doors  Weight  \n",
       "0           122      3    2568  \n",
       "1           122      3    2568  \n",
       "2           122      3    2568  \n",
       "3           122      3    2568  \n",
       "4           122      3    2579  "
      ]
     },
     "execution_count": 173,
     "metadata": {},
     "output_type": "execute_result"
    }
   ],
   "source": [
    "data.head()"
   ]
  },
  {
   "cell_type": "markdown",
   "metadata": {
    "colab_type": "text",
    "id": "NQnsIc9xqxje"
   },
   "source": [
    "display the last 5 rows"
   ]
  },
  {
   "cell_type": "code",
   "execution_count": 174,
   "metadata": {
    "colab": {
     "base_uri": "https://localhost:8080/",
     "height": 204
    },
    "colab_type": "code",
    "id": "dAkY0Gjsq06O",
    "outputId": "62ff3882-6d5a-49dd-d9e3-f5c96f206132"
   },
   "outputs": [
    {
     "data": {
      "text/html": [
       "<div>\n",
       "<style scoped>\n",
       "    .dataframe tbody tr th:only-of-type {\n",
       "        vertical-align: middle;\n",
       "    }\n",
       "\n",
       "    .dataframe tbody tr th {\n",
       "        vertical-align: top;\n",
       "    }\n",
       "\n",
       "    .dataframe thead th {\n",
       "        text-align: right;\n",
       "    }\n",
       "</style>\n",
       "<table border=\"1\" class=\"dataframe\">\n",
       "  <thead>\n",
       "    <tr style=\"text-align: right;\">\n",
       "      <th></th>\n",
       "      <th>Price</th>\n",
       "      <th>Age</th>\n",
       "      <th>Mileage</th>\n",
       "      <th>FuelType</th>\n",
       "      <th>Horsepower</th>\n",
       "      <th>MetColor</th>\n",
       "      <th>Automatic</th>\n",
       "      <th>Displacement</th>\n",
       "      <th>Doors</th>\n",
       "      <th>Weight</th>\n",
       "    </tr>\n",
       "  </thead>\n",
       "  <tbody>\n",
       "    <tr>\n",
       "      <td>1431</td>\n",
       "      <td>9225</td>\n",
       "      <td>69</td>\n",
       "      <td>12765</td>\n",
       "      <td>Petrol</td>\n",
       "      <td>86</td>\n",
       "      <td>1</td>\n",
       "      <td>0</td>\n",
       "      <td>79</td>\n",
       "      <td>3</td>\n",
       "      <td>2260</td>\n",
       "    </tr>\n",
       "    <tr>\n",
       "      <td>1432</td>\n",
       "      <td>13339</td>\n",
       "      <td>72</td>\n",
       "      <td>11806</td>\n",
       "      <td>Petrol</td>\n",
       "      <td>86</td>\n",
       "      <td>0</td>\n",
       "      <td>0</td>\n",
       "      <td>79</td>\n",
       "      <td>3</td>\n",
       "      <td>2238</td>\n",
       "    </tr>\n",
       "    <tr>\n",
       "      <td>1433</td>\n",
       "      <td>10455</td>\n",
       "      <td>71</td>\n",
       "      <td>10573</td>\n",
       "      <td>Petrol</td>\n",
       "      <td>86</td>\n",
       "      <td>0</td>\n",
       "      <td>0</td>\n",
       "      <td>79</td>\n",
       "      <td>3</td>\n",
       "      <td>2238</td>\n",
       "    </tr>\n",
       "    <tr>\n",
       "      <td>1434</td>\n",
       "      <td>8918</td>\n",
       "      <td>70</td>\n",
       "      <td>10511</td>\n",
       "      <td>Petrol</td>\n",
       "      <td>86</td>\n",
       "      <td>1</td>\n",
       "      <td>0</td>\n",
       "      <td>79</td>\n",
       "      <td>3</td>\n",
       "      <td>2238</td>\n",
       "    </tr>\n",
       "    <tr>\n",
       "      <td>1435</td>\n",
       "      <td>8549</td>\n",
       "      <td>76</td>\n",
       "      <td>1</td>\n",
       "      <td>Petrol</td>\n",
       "      <td>110</td>\n",
       "      <td>0</td>\n",
       "      <td>0</td>\n",
       "      <td>98</td>\n",
       "      <td>5</td>\n",
       "      <td>2456</td>\n",
       "    </tr>\n",
       "  </tbody>\n",
       "</table>\n",
       "</div>"
      ],
      "text/plain": [
       "      Price  Age  Mileage FuelType  Horsepower  MetColor  Automatic  \\\n",
       "1431   9225   69    12765   Petrol          86         1          0   \n",
       "1432  13339   72    11806   Petrol          86         0          0   \n",
       "1433  10455   71    10573   Petrol          86         0          0   \n",
       "1434   8918   70    10511   Petrol          86         1          0   \n",
       "1435   8549   76        1   Petrol         110         0          0   \n",
       "\n",
       "      Displacement  Doors  Weight  \n",
       "1431            79      3    2260  \n",
       "1432            79      3    2238  \n",
       "1433            79      3    2238  \n",
       "1434            79      3    2238  \n",
       "1435            98      5    2456  "
      ]
     },
     "execution_count": 174,
     "metadata": {},
     "output_type": "execute_result"
    }
   ],
   "source": [
    "data.tail()"
   ]
  },
  {
   "cell_type": "markdown",
   "metadata": {
    "colab_type": "text",
    "id": "OTnQ8HKUq_FA"
   },
   "source": [
    "check the shape of the DataFrame (rows, columns)"
   ]
  },
  {
   "cell_type": "code",
   "execution_count": 175,
   "metadata": {
    "colab": {
     "base_uri": "https://localhost:8080/",
     "height": 34
    },
    "colab_type": "code",
    "id": "O317wwz7rBRS",
    "outputId": "9e06f3f8-dbff-4e6f-8dba-3f9bb8fa47f8"
   },
   "outputs": [
    {
     "data": {
      "text/plain": [
       "(1436, 10)"
      ]
     },
     "execution_count": 175,
     "metadata": {},
     "output_type": "execute_result"
    }
   ],
   "source": [
    "data.shape"
   ]
  },
  {
   "cell_type": "markdown",
   "metadata": {
    "colab_type": "text",
    "id": "bknrRXqcsDS7"
   },
   "source": [
    "Use the describe method to generates descriptive statistics that summarize the central tendency, dispersion and shape of a dataset’s distribution, excluding NaN values"
   ]
  },
  {
   "cell_type": "code",
   "execution_count": 176,
   "metadata": {
    "colab": {
     "base_uri": "https://localhost:8080/",
     "height": 297
    },
    "colab_type": "code",
    "id": "9CNOexb8sEqN",
    "outputId": "e783f2c5-35af-4f5d-d745-eb2e48144e85"
   },
   "outputs": [
    {
     "data": {
      "text/html": [
       "<div>\n",
       "<style scoped>\n",
       "    .dataframe tbody tr th:only-of-type {\n",
       "        vertical-align: middle;\n",
       "    }\n",
       "\n",
       "    .dataframe tbody tr th {\n",
       "        vertical-align: top;\n",
       "    }\n",
       "\n",
       "    .dataframe thead th {\n",
       "        text-align: right;\n",
       "    }\n",
       "</style>\n",
       "<table border=\"1\" class=\"dataframe\">\n",
       "  <thead>\n",
       "    <tr style=\"text-align: right;\">\n",
       "      <th></th>\n",
       "      <th>Price</th>\n",
       "      <th>Age</th>\n",
       "      <th>Mileage</th>\n",
       "      <th>Horsepower</th>\n",
       "      <th>MetColor</th>\n",
       "      <th>Automatic</th>\n",
       "      <th>Displacement</th>\n",
       "      <th>Doors</th>\n",
       "      <th>Weight</th>\n",
       "    </tr>\n",
       "  </thead>\n",
       "  <tbody>\n",
       "    <tr>\n",
       "      <td>count</td>\n",
       "      <td>1436.000000</td>\n",
       "      <td>1436.000000</td>\n",
       "      <td>1436.000000</td>\n",
       "      <td>1436.000000</td>\n",
       "      <td>1436.000000</td>\n",
       "      <td>1436.000000</td>\n",
       "      <td>1436.000000</td>\n",
       "      <td>1436.000000</td>\n",
       "      <td>1436.000000</td>\n",
       "    </tr>\n",
       "    <tr>\n",
       "      <td>mean</td>\n",
       "      <td>13199.266017</td>\n",
       "      <td>55.947075</td>\n",
       "      <td>42584.589136</td>\n",
       "      <td>101.502089</td>\n",
       "      <td>0.674791</td>\n",
       "      <td>0.055710</td>\n",
       "      <td>95.720752</td>\n",
       "      <td>4.033426</td>\n",
       "      <td>2364.442897</td>\n",
       "    </tr>\n",
       "    <tr>\n",
       "      <td>std</td>\n",
       "      <td>4461.162081</td>\n",
       "      <td>18.599988</td>\n",
       "      <td>23305.402480</td>\n",
       "      <td>14.981080</td>\n",
       "      <td>0.468616</td>\n",
       "      <td>0.229441</td>\n",
       "      <td>11.587120</td>\n",
       "      <td>0.952677</td>\n",
       "      <td>115.945453</td>\n",
       "    </tr>\n",
       "    <tr>\n",
       "      <td>min</td>\n",
       "      <td>5351.000000</td>\n",
       "      <td>1.000000</td>\n",
       "      <td>1.000000</td>\n",
       "      <td>69.000000</td>\n",
       "      <td>0.000000</td>\n",
       "      <td>0.000000</td>\n",
       "      <td>79.000000</td>\n",
       "      <td>2.000000</td>\n",
       "      <td>2205.000000</td>\n",
       "    </tr>\n",
       "    <tr>\n",
       "      <td>25%</td>\n",
       "      <td>10394.000000</td>\n",
       "      <td>44.000000</td>\n",
       "      <td>26719.000000</td>\n",
       "      <td>90.000000</td>\n",
       "      <td>0.000000</td>\n",
       "      <td>0.000000</td>\n",
       "      <td>85.000000</td>\n",
       "      <td>3.000000</td>\n",
       "      <td>2293.000000</td>\n",
       "    </tr>\n",
       "    <tr>\n",
       "      <td>50%</td>\n",
       "      <td>12177.000000</td>\n",
       "      <td>61.000000</td>\n",
       "      <td>39388.500000</td>\n",
       "      <td>110.000000</td>\n",
       "      <td>1.000000</td>\n",
       "      <td>0.000000</td>\n",
       "      <td>98.000000</td>\n",
       "      <td>4.000000</td>\n",
       "      <td>2359.000000</td>\n",
       "    </tr>\n",
       "    <tr>\n",
       "      <td>75%</td>\n",
       "      <td>14699.000000</td>\n",
       "      <td>70.000000</td>\n",
       "      <td>54072.000000</td>\n",
       "      <td>110.000000</td>\n",
       "      <td>1.000000</td>\n",
       "      <td>0.000000</td>\n",
       "      <td>98.000000</td>\n",
       "      <td>5.000000</td>\n",
       "      <td>2392.000000</td>\n",
       "    </tr>\n",
       "    <tr>\n",
       "      <td>max</td>\n",
       "      <td>39975.000000</td>\n",
       "      <td>80.000000</td>\n",
       "      <td>150993.000000</td>\n",
       "      <td>192.000000</td>\n",
       "      <td>1.000000</td>\n",
       "      <td>1.000000</td>\n",
       "      <td>122.000000</td>\n",
       "      <td>5.000000</td>\n",
       "      <td>3560.000000</td>\n",
       "    </tr>\n",
       "  </tbody>\n",
       "</table>\n",
       "</div>"
      ],
      "text/plain": [
       "              Price          Age        Mileage   Horsepower     MetColor  \\\n",
       "count   1436.000000  1436.000000    1436.000000  1436.000000  1436.000000   \n",
       "mean   13199.266017    55.947075   42584.589136   101.502089     0.674791   \n",
       "std     4461.162081    18.599988   23305.402480    14.981080     0.468616   \n",
       "min     5351.000000     1.000000       1.000000    69.000000     0.000000   \n",
       "25%    10394.000000    44.000000   26719.000000    90.000000     0.000000   \n",
       "50%    12177.000000    61.000000   39388.500000   110.000000     1.000000   \n",
       "75%    14699.000000    70.000000   54072.000000   110.000000     1.000000   \n",
       "max    39975.000000    80.000000  150993.000000   192.000000     1.000000   \n",
       "\n",
       "         Automatic  Displacement        Doors       Weight  \n",
       "count  1436.000000   1436.000000  1436.000000  1436.000000  \n",
       "mean      0.055710     95.720752     4.033426  2364.442897  \n",
       "std       0.229441     11.587120     0.952677   115.945453  \n",
       "min       0.000000     79.000000     2.000000  2205.000000  \n",
       "25%       0.000000     85.000000     3.000000  2293.000000  \n",
       "50%       0.000000     98.000000     4.000000  2359.000000  \n",
       "75%       0.000000     98.000000     5.000000  2392.000000  \n",
       "max       1.000000    122.000000     5.000000  3560.000000  "
      ]
     },
     "execution_count": 176,
     "metadata": {},
     "output_type": "execute_result"
    }
   ],
   "source": [
    "data.describe()"
   ]
  },
  {
   "cell_type": "markdown",
   "metadata": {
    "colab_type": "text",
    "id": "6V61wwEyrm5F"
   },
   "source": [
    "**Visualizing data using seaborn**\n",
    "\n",
    "*   Seaborn: Python library for statistical data visualization built on top of Matplotlib\n"
   ]
  },
  {
   "cell_type": "code",
   "execution_count": 177,
   "metadata": {
    "colab": {},
    "colab_type": "code",
    "id": "5w3yHnY5r2Px"
   },
   "outputs": [],
   "source": [
    "import seaborn as sns"
   ]
  },
  {
   "cell_type": "markdown",
   "metadata": {
    "colab_type": "text",
    "id": "dYuEJPCer3mU"
   },
   "source": [
    "Visualize the relationship between the features and the response using scatterplots\n"
   ]
  },
  {
   "cell_type": "code",
   "execution_count": 178,
   "metadata": {
    "colab": {
     "base_uri": "https://localhost:8080/",
     "height": 550
    },
    "colab_type": "code",
    "id": "t9_1nFD4r-od",
    "outputId": "59ba27a8-c1cf-467d-f3f2-f15eade0c609"
   },
   "outputs": [
    {
     "data": {
      "text/plain": [
       "<seaborn.axisgrid.PairGrid at 0x129889f10>"
      ]
     },
     "execution_count": 178,
     "metadata": {},
     "output_type": "execute_result"
    },
    {
     "data": {
      "image/png": "[encoded data removed]",
      "text/plain": [
       "<Figure size 352.8x504 with 1 Axes>"
      ]
     },
     "metadata": {
      "needs_background": "light"
     },
     "output_type": "display_data"
    }
   ],
   "source": [
    "sns.pairplot(data, x_vars=['Age'], y_vars='Price', height=7, aspect=0.7)"
   ]
  },
  {
   "cell_type": "markdown",
   "metadata": {
    "colab_type": "text",
    "id": "tH4bSCgssmqS"
   },
   "source": [
    "**Fit a linear model**\n",
    "\n",
    "Preparing X and y using pandas:\n",
    "* scikit-learn expects X (feature matrix) and y (response vector) to be NumPy arrays.\n",
    "* However, pandas is built on top of NumPy.\n",
    "* Thus, X can be a pandas DataFrame and y can be a pandas Series!\n"
   ]
  },
  {
   "cell_type": "code",
   "execution_count": 282,
   "metadata": {
    "colab": {
     "base_uri": "https://localhost:8080/",
     "height": 334
    },
    "colab_type": "code",
    "id": "qx-xlTMxs6cc",
    "outputId": "ad0f378c-e6f5-4024-ced7-f3e3dbac39eb"
   },
   "outputs": [],
   "source": [
    "X = data[['Age', 'Price', 'Horsepower', 'MetColor', 'Automatic', 'Displacement', 'Doors', 'Weight']]\n",
    "y = data['Mileage']"
   ]
  },
  {
   "cell_type": "code",
   "execution_count": 283,
   "metadata": {
    "colab": {
     "base_uri": "https://localhost:8080/",
     "height": 204
    },
    "colab_type": "code",
    "id": "q1Q0iOtV2IEg",
    "outputId": "ab8f3278-d49d-43f4-98d2-290c2a9e87c4"
   },
   "outputs": [
    {
     "data": {
      "text/html": [
       "<div>\n",
       "<style scoped>\n",
       "    .dataframe tbody tr th:only-of-type {\n",
       "        vertical-align: middle;\n",
       "    }\n",
       "\n",
       "    .dataframe tbody tr th {\n",
       "        vertical-align: top;\n",
       "    }\n",
       "\n",
       "    .dataframe thead th {\n",
       "        text-align: right;\n",
       "    }\n",
       "</style>\n",
       "<table border=\"1\" class=\"dataframe\">\n",
       "  <thead>\n",
       "    <tr style=\"text-align: right;\">\n",
       "      <th></th>\n",
       "      <th>Age</th>\n",
       "      <th>Price</th>\n",
       "      <th>Horsepower</th>\n",
       "      <th>MetColor</th>\n",
       "      <th>Automatic</th>\n",
       "      <th>Displacement</th>\n",
       "      <th>Doors</th>\n",
       "      <th>Weight</th>\n",
       "    </tr>\n",
       "  </thead>\n",
       "  <tbody>\n",
       "    <tr>\n",
       "      <td>0</td>\n",
       "      <td>23</td>\n",
       "      <td>16605</td>\n",
       "      <td>90</td>\n",
       "      <td>1</td>\n",
       "      <td>0</td>\n",
       "      <td>122</td>\n",
       "      <td>3</td>\n",
       "      <td>2568</td>\n",
       "    </tr>\n",
       "    <tr>\n",
       "      <td>1</td>\n",
       "      <td>23</td>\n",
       "      <td>16913</td>\n",
       "      <td>90</td>\n",
       "      <td>1</td>\n",
       "      <td>0</td>\n",
       "      <td>122</td>\n",
       "      <td>3</td>\n",
       "      <td>2568</td>\n",
       "    </tr>\n",
       "    <tr>\n",
       "      <td>2</td>\n",
       "      <td>24</td>\n",
       "      <td>17159</td>\n",
       "      <td>90</td>\n",
       "      <td>1</td>\n",
       "      <td>0</td>\n",
       "      <td>122</td>\n",
       "      <td>3</td>\n",
       "      <td>2568</td>\n",
       "    </tr>\n",
       "    <tr>\n",
       "      <td>3</td>\n",
       "      <td>26</td>\n",
       "      <td>18389</td>\n",
       "      <td>90</td>\n",
       "      <td>0</td>\n",
       "      <td>0</td>\n",
       "      <td>122</td>\n",
       "      <td>3</td>\n",
       "      <td>2568</td>\n",
       "    </tr>\n",
       "    <tr>\n",
       "      <td>4</td>\n",
       "      <td>30</td>\n",
       "      <td>16913</td>\n",
       "      <td>90</td>\n",
       "      <td>0</td>\n",
       "      <td>0</td>\n",
       "      <td>122</td>\n",
       "      <td>3</td>\n",
       "      <td>2579</td>\n",
       "    </tr>\n",
       "  </tbody>\n",
       "</table>\n",
       "</div>"
      ],
      "text/plain": [
       "   Age  Price  Horsepower  MetColor  Automatic  Displacement  Doors  Weight\n",
       "0   23  16605          90         1          0           122      3    2568\n",
       "1   23  16913          90         1          0           122      3    2568\n",
       "2   24  17159          90         1          0           122      3    2568\n",
       "3   26  18389          90         0          0           122      3    2568\n",
       "4   30  16913          90         0          0           122      3    2579"
      ]
     },
     "execution_count": 283,
     "metadata": {},
     "output_type": "execute_result"
    }
   ],
   "source": [
    "X.head()"
   ]
  },
  {
   "cell_type": "markdown",
   "metadata": {
    "colab_type": "text",
    "id": "Y3JTXNdXtkUT"
   },
   "source": [
    "Equivalent command that works if there are no spaces in the column name"
   ]
  },
  {
   "cell_type": "code",
   "execution_count": 284,
   "metadata": {
    "colab": {
     "base_uri": "https://localhost:8080/",
     "height": 119
    },
    "colab_type": "code",
    "id": "wCwW_KZWtmoS",
    "outputId": "a25da349-e9ad-45b8-bb03-94987940a7ab"
   },
   "outputs": [
    {
     "data": {
      "text/plain": [
       "0    29196\n",
       "1    45321\n",
       "2    25918\n",
       "3    29826\n",
       "4    23923\n",
       "Name: Mileage, dtype: int64"
      ]
     },
     "execution_count": 284,
     "metadata": {},
     "output_type": "execute_result"
    }
   ],
   "source": [
    "y.head()"
   ]
  },
  {
   "cell_type": "markdown",
   "metadata": {
    "colab_type": "text",
    "id": "ILik4W-ZttF2"
   },
   "source": [
    "Print the first 5 rows of X and y"
   ]
  },
  {
   "cell_type": "code",
   "execution_count": 285,
   "metadata": {
    "colab": {
     "base_uri": "https://localhost:8080/",
     "height": 221
    },
    "colab_type": "code",
    "id": "-h8AT8-GtwZy",
    "outputId": "63d1abf7-d5f5-4e3c-80df-9342b3d1d5a6"
   },
   "outputs": [
    {
     "name": "stdout",
     "output_type": "stream",
     "text": [
      "   Age  Price  Horsepower  MetColor  Automatic  Displacement  Doors  Weight\n",
      "0   23  16605          90         1          0           122      3    2568\n",
      "1   23  16913          90         1          0           122      3    2568\n",
      "2   24  17159          90         1          0           122      3    2568\n",
      "3   26  18389          90         0          0           122      3    2568\n",
      "4   30  16913          90         0          0           122      3    2579\n",
      "0    29196\n",
      "1    45321\n",
      "2    25918\n",
      "3    29826\n",
      "4    23923\n",
      "Name: Mileage, dtype: int64\n"
     ]
    }
   ],
   "source": [
    "print(X.head())\n",
    "print(y.head())"
   ]
  },
  {
   "cell_type": "markdown",
   "metadata": {
    "colab_type": "text",
    "id": "25-qGXoPuB0I"
   },
   "source": [
    "**Validation Set Approach**\n",
    "\n",
    "Splitting X and y into training and testing sets"
   ]
  },
  {
   "cell_type": "code",
   "execution_count": 286,
   "metadata": {
    "colab": {
     "base_uri": "https://localhost:8080/",
     "height": 204
    },
    "colab_type": "code",
    "id": "XEju8NAiuIDE",
    "outputId": "99b3a7af-755d-4462-c68a-15cd5eef6f0c"
   },
   "outputs": [
    {
     "data": {
      "text/html": [
       "<div>\n",
       "<style scoped>\n",
       "    .dataframe tbody tr th:only-of-type {\n",
       "        vertical-align: middle;\n",
       "    }\n",
       "\n",
       "    .dataframe tbody tr th {\n",
       "        vertical-align: top;\n",
       "    }\n",
       "\n",
       "    .dataframe thead th {\n",
       "        text-align: right;\n",
       "    }\n",
       "</style>\n",
       "<table border=\"1\" class=\"dataframe\">\n",
       "  <thead>\n",
       "    <tr style=\"text-align: right;\">\n",
       "      <th></th>\n",
       "      <th>Age</th>\n",
       "      <th>Price</th>\n",
       "      <th>Horsepower</th>\n",
       "      <th>MetColor</th>\n",
       "      <th>Automatic</th>\n",
       "      <th>Displacement</th>\n",
       "      <th>Doors</th>\n",
       "      <th>Weight</th>\n",
       "    </tr>\n",
       "  </thead>\n",
       "  <tbody>\n",
       "    <tr>\n",
       "      <td>607</td>\n",
       "      <td>62</td>\n",
       "      <td>9225</td>\n",
       "      <td>72</td>\n",
       "      <td>1</td>\n",
       "      <td>0</td>\n",
       "      <td>122</td>\n",
       "      <td>5</td>\n",
       "      <td>2513</td>\n",
       "    </tr>\n",
       "    <tr>\n",
       "      <td>1318</td>\n",
       "      <td>78</td>\n",
       "      <td>10455</td>\n",
       "      <td>110</td>\n",
       "      <td>0</td>\n",
       "      <td>0</td>\n",
       "      <td>98</td>\n",
       "      <td>5</td>\n",
       "      <td>2392</td>\n",
       "    </tr>\n",
       "    <tr>\n",
       "      <td>927</td>\n",
       "      <td>67</td>\n",
       "      <td>11378</td>\n",
       "      <td>86</td>\n",
       "      <td>0</td>\n",
       "      <td>0</td>\n",
       "      <td>79</td>\n",
       "      <td>4</td>\n",
       "      <td>2205</td>\n",
       "    </tr>\n",
       "    <tr>\n",
       "      <td>1036</td>\n",
       "      <td>62</td>\n",
       "      <td>11009</td>\n",
       "      <td>86</td>\n",
       "      <td>1</td>\n",
       "      <td>0</td>\n",
       "      <td>79</td>\n",
       "      <td>5</td>\n",
       "      <td>2282</td>\n",
       "    </tr>\n",
       "    <tr>\n",
       "      <td>487</td>\n",
       "      <td>54</td>\n",
       "      <td>11009</td>\n",
       "      <td>69</td>\n",
       "      <td>0</td>\n",
       "      <td>0</td>\n",
       "      <td>122</td>\n",
       "      <td>5</td>\n",
       "      <td>2513</td>\n",
       "    </tr>\n",
       "  </tbody>\n",
       "</table>\n",
       "</div>"
      ],
      "text/plain": [
       "      Age  Price  Horsepower  MetColor  Automatic  Displacement  Doors  Weight\n",
       "607    62   9225          72         1          0           122      5    2513\n",
       "1318   78  10455         110         0          0            98      5    2392\n",
       "927    67  11378          86         0          0            79      4    2205\n",
       "1036   62  11009          86         1          0            79      5    2282\n",
       "487    54  11009          69         0          0           122      5    2513"
      ]
     },
     "execution_count": 286,
     "metadata": {},
     "output_type": "execute_result"
    }
   ],
   "source": [
    "from sklearn.model_selection import train_test_split\n",
    "X_train, X_test, y_train, y_test = train_test_split(X, y, test_size=0.2,random_state=1)\n",
    "\n",
    "X_train.head()\n"
   ]
  },
  {
   "cell_type": "markdown",
   "metadata": {
    "colab_type": "text",
    "id": "4_M291CPul6g"
   },
   "source": [
    "import linear regression model"
   ]
  },
  {
   "cell_type": "code",
   "execution_count": 287,
   "metadata": {
    "colab": {},
    "colab_type": "code",
    "id": "6pzxWoTfusP1"
   },
   "outputs": [],
   "source": [
    "from sklearn.linear_model import LinearRegression"
   ]
  },
  {
   "cell_type": "markdown",
   "metadata": {
    "colab_type": "text",
    "id": "jR9lkuNmuwdk"
   },
   "source": [
    "**instantiate**"
   ]
  },
  {
   "cell_type": "code",
   "execution_count": 288,
   "metadata": {
    "colab": {},
    "colab_type": "code",
    "id": "NFFbIiT3vIRg"
   },
   "outputs": [],
   "source": [
    "linreg = LinearRegression()"
   ]
  },
  {
   "cell_type": "markdown",
   "metadata": {
    "colab_type": "text",
    "id": "l1JfTXIovL8o"
   },
   "source": [
    "Fit the model to the training data (learn the coefficients)\n"
   ]
  },
  {
   "cell_type": "code",
   "execution_count": 289,
   "metadata": {
    "colab": {
     "base_uri": "https://localhost:8080/",
     "height": 327
    },
    "colab_type": "code",
    "id": "VM0xuvuYvOsZ",
    "outputId": "edc02415-4e9b-4c1f-933f-8cea24b00b4c"
   },
   "outputs": [
    {
     "data": {
      "text/plain": [
       "LinearRegression(copy_X=True, fit_intercept=True, n_jobs=None, normalize=False)"
      ]
     },
     "execution_count": 289,
     "metadata": {},
     "output_type": "execute_result"
    }
   ],
   "source": [
    "linreg.fit(X_train, y_train)"
   ]
  },
  {
   "cell_type": "markdown",
   "metadata": {
    "colab_type": "text",
    "id": "EeNHTIAwvW6Q"
   },
   "source": [
    "Print the intercept and coefficients"
   ]
  },
  {
   "cell_type": "code",
   "execution_count": 290,
   "metadata": {
    "colab": {
     "base_uri": "https://localhost:8080/",
     "height": 181
    },
    "colab_type": "code",
    "id": "GZecjve4vbL9",
    "outputId": "e162236b-a0ef-4a09-ca4b-ed5fc9519ef6"
   },
   "outputs": [
    {
     "name": "stdout",
     "output_type": "stream",
     "text": [
      "-33903.84965347911\n",
      "[ 1.05053672e+02 -3.06302058e+00 -2.50226986e+02 -6.26344827e+02\n",
      " -3.84140410e+03  6.52379451e+02  3.93000247e+02  3.07930814e+01]\n"
     ]
    }
   ],
   "source": [
    "print(linreg.intercept_)\n",
    "print(linreg.coef_)"
   ]
  },
  {
   "cell_type": "markdown",
   "metadata": {
    "colab_type": "text",
    "id": "gCm6Ymf010Xu"
   },
   "source": [
    "# Use statsmodels module"
   ]
  },
  {
   "cell_type": "code",
   "execution_count": 291,
   "metadata": {
    "colab": {
     "base_uri": "https://localhost:8080/",
     "height": 429
    },
    "colab_type": "code",
    "id": "4VVDVgSZ16tt",
    "outputId": "2edbb36a-aee2-4cac-bc55-27571e396738"
   },
   "outputs": [
    {
     "name": "stdout",
     "output_type": "stream",
     "text": [
      "                            OLS Regression Results                            \n",
      "==============================================================================\n",
      "Dep. Variable:                Mileage   R-squared:                       0.524\n",
      "Model:                            OLS   Adj. R-squared:                  0.521\n",
      "Method:                 Least Squares   F-statistic:                     156.8\n",
      "Date:                Sat, 12 Oct 2019   Prob (F-statistic):          1.03e-177\n",
      "Time:                        23:18:44   Log-Likelihood:                -12735.\n",
      "No. Observations:                1148   AIC:                         2.549e+04\n",
      "Df Residuals:                    1139   BIC:                         2.553e+04\n",
      "Df Model:                           8                                         \n",
      "Covariance Type:            nonrobust                                         \n",
      "================================================================================\n",
      "                   coef    std err          t      P>|t|      [0.025      0.975]\n",
      "--------------------------------------------------------------------------------\n",
      "const         -3.39e+04   1.32e+04     -2.560      0.011   -5.99e+04   -7922.837\n",
      "Age            105.0537     55.599      1.889      0.059      -4.034     214.141\n",
      "Price           -3.0630      0.269    -11.394      0.000      -3.590      -2.536\n",
      "Horsepower    -250.2270     36.052     -6.941      0.000    -320.962    -179.492\n",
      "MetColor      -626.3448   1014.534     -0.617      0.537   -2616.910    1364.220\n",
      "Automatic    -3841.4041   2097.816     -1.831      0.067   -7957.421     274.613\n",
      "Displacement   652.3795     58.038     11.241      0.000     538.506     766.253\n",
      "Doors          393.0002    527.586      0.745      0.456    -642.150    1428.150\n",
      "Weight          30.7931      7.074      4.353      0.000      16.914      44.673\n",
      "==============================================================================\n",
      "Omnibus:                       71.927   Durbin-Watson:                   1.897\n",
      "Prob(Omnibus):                  0.000   Jarque-Bera (JB):              137.909\n",
      "Skew:                           0.427   Prob(JB):                     1.13e-30\n",
      "Kurtosis:                       4.467   Cond. No.                     3.96e+05\n",
      "==============================================================================\n",
      "\n",
      "Warnings:\n",
      "[1] Standard Errors assume that the covariance matrix of the errors is correctly specified.\n",
      "[2] The condition number is large, 3.96e+05. This might indicate that there are\n",
      "strong multicollinearity or other numerical problems.\n"
     ]
    },
    {
     "name": "stderr",
     "output_type": "stream",
     "text": [
      "/usr/local/lib/python3.7/site-packages/numpy/core/fromnumeric.py:2495: FutureWarning: Method .ptp is deprecated and will be removed in a future version. Use numpy.ptp instead.\n",
      "  return ptp(axis=axis, out=out, **kwargs)\n"
     ]
    }
   ],
   "source": [
    "import statsmodels.api as sm\n",
    "from scipy import stats\n",
    "X2 = sm.add_constant(X_train)\n",
    "est = sm.OLS(y_train, X2)\n",
    "est2 = est.fit()\n",
    "print(est2.summary())"
   ]
  },
  {
   "cell_type": "markdown",
   "metadata": {
    "colab_type": "text",
    "id": "gg-W8whkvzW2"
   },
   "source": [
    "# Interpreting model coefficients\n",
    "\n",
    "How do we interpret the TV coefficient (0.0468)?\n",
    "* For a given amount of Radio and Newspaper ad spending, a \"unit\" increase in TV ad spending is associated with a 0.0468 \"unit\" increase in Sales.\n",
    "* Or more clearly: For a given amount of Radio and Newspaper ad spending, an additional $1,000 spent on TV ads is associated with an increase in sales of 46.8 items.\n"
   ]
  },
  {
   "cell_type": "markdown",
   "metadata": {
    "colab_type": "text",
    "id": "M_qNqsy1wGOw"
   },
   "source": [
    "# Making predictions\n",
    "make predictions on the testing set"
   ]
  },
  {
   "cell_type": "code",
   "execution_count": 275,
   "metadata": {
    "colab": {
     "base_uri": "https://localhost:8080/",
     "height": 307
    },
    "colab_type": "code",
    "id": "ECWHf0i8wMs1",
    "outputId": "db1b51ba-14f7-4e78-9cf1-0a3f248af6d3"
   },
   "outputs": [],
   "source": [
    "y_pred = linreg.predict(X_test)"
   ]
  },
  {
   "cell_type": "code",
   "execution_count": 276,
   "metadata": {
    "colab": {
     "base_uri": "https://localhost:8080/",
     "height": 206
    },
    "colab_type": "code",
    "id": "-sCS99Xh4nEr",
    "outputId": "daab2455-926c-44f1-f63f-68d467041cdb"
   },
   "outputs": [
    {
     "data": {
      "text/html": [
       "<div>\n",
       "<style scoped>\n",
       "    .dataframe tbody tr th:only-of-type {\n",
       "        vertical-align: middle;\n",
       "    }\n",
       "\n",
       "    .dataframe tbody tr th {\n",
       "        vertical-align: top;\n",
       "    }\n",
       "\n",
       "    .dataframe thead th {\n",
       "        text-align: right;\n",
       "    }\n",
       "</style>\n",
       "<table border=\"1\" class=\"dataframe\">\n",
       "  <thead>\n",
       "    <tr style=\"text-align: right;\">\n",
       "      <th></th>\n",
       "      <th>Age</th>\n",
       "      <th>Mileage</th>\n",
       "      <th>Horsepower</th>\n",
       "      <th>MetColor</th>\n",
       "      <th>Automatic</th>\n",
       "      <th>Displacement</th>\n",
       "      <th>Doors</th>\n",
       "      <th>Weight</th>\n",
       "    </tr>\n",
       "  </thead>\n",
       "  <tbody>\n",
       "    <tr>\n",
       "      <td>509</td>\n",
       "      <td>46</td>\n",
       "      <td>33368</td>\n",
       "      <td>97</td>\n",
       "      <td>1</td>\n",
       "      <td>0</td>\n",
       "      <td>85</td>\n",
       "      <td>5</td>\n",
       "      <td>2337</td>\n",
       "    </tr>\n",
       "    <tr>\n",
       "      <td>435</td>\n",
       "      <td>53</td>\n",
       "      <td>49585</td>\n",
       "      <td>110</td>\n",
       "      <td>0</td>\n",
       "      <td>0</td>\n",
       "      <td>98</td>\n",
       "      <td>5</td>\n",
       "      <td>2370</td>\n",
       "    </tr>\n",
       "    <tr>\n",
       "      <td>321</td>\n",
       "      <td>36</td>\n",
       "      <td>22537</td>\n",
       "      <td>110</td>\n",
       "      <td>1</td>\n",
       "      <td>0</td>\n",
       "      <td>98</td>\n",
       "      <td>5</td>\n",
       "      <td>2370</td>\n",
       "    </tr>\n",
       "    <tr>\n",
       "      <td>1055</td>\n",
       "      <td>70</td>\n",
       "      <td>111101</td>\n",
       "      <td>72</td>\n",
       "      <td>0</td>\n",
       "      <td>0</td>\n",
       "      <td>122</td>\n",
       "      <td>3</td>\n",
       "      <td>2458</td>\n",
       "    </tr>\n",
       "    <tr>\n",
       "      <td>288</td>\n",
       "      <td>44</td>\n",
       "      <td>27476</td>\n",
       "      <td>97</td>\n",
       "      <td>1</td>\n",
       "      <td>0</td>\n",
       "      <td>85</td>\n",
       "      <td>5</td>\n",
       "      <td>2337</td>\n",
       "    </tr>\n",
       "  </tbody>\n",
       "</table>\n",
       "</div>"
      ],
      "text/plain": [
       "      Age  Mileage  Horsepower  MetColor  Automatic  Displacement  Doors  \\\n",
       "509    46    33368          97         1          0            85      5   \n",
       "435    53    49585         110         0          0            98      5   \n",
       "321    36    22537         110         1          0            98      5   \n",
       "1055   70   111101          72         0          0           122      3   \n",
       "288    44    27476          97         1          0            85      5   \n",
       "\n",
       "      Weight  \n",
       "509     2337  \n",
       "435     2370  \n",
       "321     2370  \n",
       "1055    2458  \n",
       "288     2337  "
      ]
     },
     "execution_count": 276,
     "metadata": {},
     "output_type": "execute_result"
    }
   ],
   "source": [
    "X_test.head()"
   ]
  },
  {
   "cell_type": "code",
   "execution_count": 277,
   "metadata": {
    "colab": {
     "base_uri": "https://localhost:8080/",
     "height": 295
    },
    "colab_type": "code",
    "id": "3C20a7sW4jO5",
    "outputId": "6cdf2263-1a40-4183-9de4-ec76c7df4db7"
   },
   "outputs": [
    {
     "data": {
      "text/plain": [
       "array([14693.49716853, 13623.71147261, 17179.20473923,  7783.3820328 ,\n",
       "       15194.83069743, 21543.43137608,  9227.48249026, 12263.62695358,\n",
       "        8634.50327047, 14299.83242778, 12037.671214  , 12000.61231416,\n",
       "        9447.62390912, 11049.02403239,  8104.77060392,  9997.34789613,\n",
       "        7266.37999932,  8905.44192382, 21182.64758738,  7046.37068835,\n",
       "       20269.12584681,  8593.97609238, 11277.75026471,  8296.35346719,\n",
       "       16303.49645374, 22855.44059181,  9708.10843512, 12772.16752726,\n",
       "       22182.72825039, 12774.62373889,  9791.2730886 , 10672.20374569,\n",
       "       16660.93378407, 21134.2658255 , 32583.95255659, 12518.99906697,\n",
       "       13148.49340896,  9537.22299529, 11121.7330548 , 20554.73209774,\n",
       "       14946.04595299, 11305.93060289, 10343.65729934, 12563.60102194,\n",
       "        9997.42393349, 12274.62585912, 13614.04174814, 11042.91947589,\n",
       "        7965.11092285,  8359.96431387,  9098.35204066, 13909.86893846,\n",
       "       11598.10976397,  8070.95591486, 10145.99386333, 23958.82373754,\n",
       "       18424.99271583, 13922.68770645, 11429.87157767,  7233.12978155,\n",
       "       20687.19345862, 10788.1825927 , 12290.98516562, 15292.44210207,\n",
       "       10318.01566347, 19260.89624987, 13529.47854821, 11705.03777126,\n",
       "       13081.31002547, 13311.24587028,  8128.88634024, 12628.46139984,\n",
       "        9387.18082261,  7896.79009878,  9104.15662372, 17310.5942607 ,\n",
       "       10787.50894024, 10848.55391005, 11535.14389542, 15847.52372432,\n",
       "       14970.44083415,  9287.64733522,  7973.07095331, 13533.95902722,\n",
       "       11110.87084748,  9720.50941733, 16837.85170608, 19942.79235365,\n",
       "       14313.1463962 ,  7763.91797437, 11542.91860457, 14251.12379539,\n",
       "       11896.43548725, 11853.11429547,  9657.72318772, 13304.43390699,\n",
       "       16465.0386346 , 12775.35808574, 13172.23178723, 13479.00983546,\n",
       "        9258.56011679, 11207.54177832, 13553.91778473,  9608.20549092,\n",
       "       13959.21756613, 15955.71471853, 13195.97673606, 10037.89828482,\n",
       "       11985.86574959, 12041.59845652,  9426.26547129, 15964.83154982,\n",
       "        9654.32710863,  6263.19519276, 12026.16491176, 17482.64407263,\n",
       "       14344.51309675, 12225.18812806, 11306.32134936,  8437.33095134,\n",
       "       23223.14966751, 23715.63279832, 10357.41966008, 13805.79984442,\n",
       "        6956.26634351, 20008.7574501 ,  8137.70180822, 13928.874883  ,\n",
       "       12743.06438717, 23489.98740845, 21958.34095394, 11099.01758235,\n",
       "       11580.11625825, 11505.5520954 , 15638.13963424, 11577.41343559,\n",
       "       13831.25484567, 11683.52000534, 16041.36141842,  9514.52328479,\n",
       "       11509.74815061, 11039.2174359 , 12224.93896452,  9557.62609338,\n",
       "       12788.39666037, 13047.26740008, 20935.75159366, 12183.07865771,\n",
       "       12018.71262484, 10810.10562324,  8904.88865134,  7895.56029161,\n",
       "       21692.62840452, 10447.91823998,  5949.29419973, 18786.62481306,\n",
       "       12867.41224768, 10517.38229585,  9883.81120687, 15102.01708518,\n",
       "       12114.07328447, 15394.59502954,  8766.67471817,  8949.01665905,\n",
       "        9904.26110007, 12086.86349094, 13506.55583706, 10870.45823871,\n",
       "        9080.09544301, 16304.141755  ,  9605.97042759, 23660.92427693,\n",
       "       11738.50575895, 13755.60555312, 25677.84654191, 12104.51522335,\n",
       "       10728.42402552, 12270.19120128, 10589.23641216,  8237.58316209,\n",
       "       16484.77800455, 20335.64729763,  8278.97448948,  8068.64045226,\n",
       "       10171.0797326 ,  7844.95910737, 13048.94350181, 11684.10979702,\n",
       "       11635.95822405, 21866.72992382, 15796.55025534, 10298.69587449,\n",
       "       18028.90323327, 12650.65289483,  9170.04488268, 11791.05825819,\n",
       "       11288.68661235,  9745.65091894, 11611.14833226,  8900.7238079 ,\n",
       "        9516.53532609, 13778.5513179 , 22993.55777254, 10062.95704855,\n",
       "       15754.7027989 , 10307.74718767, 14473.73070993,  9103.99168022,\n",
       "        9908.16315493, 21191.82003562, 11913.59238698,  9923.15877304,\n",
       "       13999.69506082, 10873.05259881, 18316.11165063, 10466.81325209,\n",
       "       10741.12748393, 16202.3906138 , 17101.87555564, 13226.68201243,\n",
       "       15581.0335826 , 11119.88960529, 10322.96746074, 11602.23096215,\n",
       "       16494.86094601, 13333.96901979, 21658.96536886, 12510.24801946,\n",
       "       13504.60839457, 12846.86402251, 16521.81954359,  9984.98996295,\n",
       "       19588.18520541, 13686.82827371, 12786.6039014 ,  9554.8963054 ,\n",
       "       22371.63155313,  9700.32391392, 14924.19608624, 11361.17445683,\n",
       "       11194.03555038, 12103.44821364, 18845.05133419, 17233.27906141,\n",
       "       14063.56501928, 12114.33092225, 11866.24862393, 10551.26442677,\n",
       "        9989.79170151, 15098.75894547,  8916.95429568, 13276.8265452 ,\n",
       "       24012.81271973, 17745.33581444, 11400.59174586, 12070.38093027,\n",
       "       11111.91941078,  9155.24203672,  8878.94481395, 14017.27741519,\n",
       "       12300.82997226, 14688.80877956,  7701.01865679, 25144.6669021 ,\n",
       "       16637.89321214, 19980.95112121, 12402.04283301, 13149.77315377,\n",
       "        7243.53942467,  9953.47602009, 11962.26931888, 21855.75569493,\n",
       "       19161.29981423, 12998.4386654 , 22522.22272168, 11871.8922283 ,\n",
       "        9226.54510149, 11632.37132231, 11451.50759609,  9992.78758983,\n",
       "       20405.10804524,  9951.96480363,  8429.63889094, 10252.84391179,\n",
       "       16783.85345701, 20534.75908233, 10497.21742076, 10813.94530169])"
      ]
     },
     "execution_count": 277,
     "metadata": {},
     "output_type": "execute_result"
    }
   ],
   "source": [
    "y_pred"
   ]
  },
  {
   "cell_type": "markdown",
   "metadata": {
    "colab_type": "text",
    "id": "G7dGgZ8AeaFV"
   },
   "source": []
  },
  {
   "cell_type": "code",
   "execution_count": 278,
   "metadata": {
    "colab": {
     "base_uri": "https://localhost:8080/",
     "height": 1000
    },
    "colab_type": "code",
    "id": "9sZ8BWP3eaYu",
    "outputId": "8b7b80ff-8406-4f0c-f833-28843dc6c176"
   },
   "outputs": [
    {
     "data": {
      "text/plain": [
       "509     13407\n",
       "435     13401\n",
       "321     13223\n",
       "1055     7995\n",
       "288     14631\n",
       "        ...  \n",
       "1359    10763\n",
       "215     13469\n",
       "135     20295\n",
       "800     11064\n",
       "994      9533\n",
       "Name: Price, Length: 288, dtype: int64"
      ]
     },
     "execution_count": 278,
     "metadata": {},
     "output_type": "execute_result"
    }
   ],
   "source": [
    "y_test"
   ]
  },
  {
   "cell_type": "markdown",
   "metadata": {
    "colab_type": "text",
    "id": "7UO6EwgMwhL4"
   },
   "source": [
    "# Accuracy metrics for regression\n",
    "Calculate MAE using scikit-learn\n"
   ]
  },
  {
   "cell_type": "code",
   "execution_count": 279,
   "metadata": {
    "colab": {
     "base_uri": "https://localhost:8080/",
     "height": 35
    },
    "colab_type": "code",
    "id": "GgNId_ZnwpUo",
    "outputId": "365b9251-2ba8-456e-8cd1-a76f8d37b74d"
   },
   "outputs": [
    {
     "name": "stdout",
     "output_type": "stream",
     "text": [
      "1191.7258678707158\n"
     ]
    }
   ],
   "source": [
    "from sklearn import metrics\n",
    "print(metrics.mean_absolute_error(y_test, y_pred))"
   ]
  },
  {
   "cell_type": "code",
   "execution_count": 280,
   "metadata": {
    "colab": {
     "base_uri": "https://localhost:8080/",
     "height": 35
    },
    "colab_type": "code",
    "id": "lAmJdBiQ5DCe",
    "outputId": "71576736-ce3f-4186-eaa2-8b8d690260e7"
   },
   "outputs": [
    {
     "name": "stdout",
     "output_type": "stream",
     "text": [
      "1205.8512389888822\n"
     ]
    }
   ],
   "source": [
    "y_train_pred = linreg.predict(X_train)\n",
    "print(metrics.mean_absolute_error(y_train, y_train_pred))"
   ]
  },
  {
   "cell_type": "markdown",
   "metadata": {
    "colab_type": "text",
    "id": "NZC7Yw_Uw-kU"
   },
   "source": [
    "Calculate MSE using scikit-learn\n",
    "Mean Squared Error (MSE) is the mean of the squared errors:"
   ]
  },
  {
   "cell_type": "code",
   "execution_count": 281,
   "metadata": {
    "colab": {
     "base_uri": "https://localhost:8080/",
     "height": 35
    },
    "colab_type": "code",
    "id": "QpbTCxvnxHHU",
    "outputId": "986a9e84-8a8a-428f-f706-07f7c84e8b14"
   },
   "outputs": [
    {
     "name": "stdout",
     "output_type": "stream",
     "text": [
      "2426631.733151488\n"
     ]
    }
   ],
   "source": [
    "print(metrics.mean_squared_error(y_test, y_pred))"
   ]
  },
  {
   "cell_type": "markdown",
   "metadata": {
    "colab_type": "text",
    "id": "ySx4AOQGxTpt"
   },
   "source": [
    "# Feature selection\n",
    "\n",
    "Does Newspaper \"belong\" in our model? In other words, does it improve the quality of our predictions?\n",
    "\n",
    "Let's remove it from the model and check the MSE!\n"
   ]
  },
  {
   "cell_type": "code",
   "execution_count": 260,
   "metadata": {
    "colab": {},
    "colab_type": "code",
    "id": "imf1RNaAxa7U"
   },
   "outputs": [],
   "source": [
    "X = data[['Mileage', 'Horsepower', 'MetColor', 'Automatic', 'Displacement', 'Doors', 'Weight']]"
   ]
  },
  {
   "cell_type": "markdown",
   "metadata": {
    "colab_type": "text",
    "id": "5BMYxeWpxrsh"
   },
   "source": [
    "Split into training and testing sets"
   ]
  },
  {
   "cell_type": "code",
   "execution_count": 261,
   "metadata": {
    "colab": {},
    "colab_type": "code",
    "id": "JZXLMprrxvOJ"
   },
   "outputs": [],
   "source": [
    "X_train, X_test, y_train, y_test = train_test_split(X, y, test_size =0.2, random_state=3)"
   ]
  },
  {
   "cell_type": "markdown",
   "metadata": {
    "colab_type": "text",
    "id": "04tqy7LRxznW"
   },
   "source": [
    "Fit the model to the training data (learn the coefficients)\n"
   ]
  },
  {
   "cell_type": "code",
   "execution_count": 262,
   "metadata": {
    "colab": {
     "base_uri": "https://localhost:8080/",
     "height": 52
    },
    "colab_type": "code",
    "id": "HaaZiWFIxw_X",
    "outputId": "a039e348-8266-45a4-94b9-53d8ee6bdaf4"
   },
   "outputs": [
    {
     "data": {
      "text/plain": [
       "LinearRegression(copy_X=True, fit_intercept=True, n_jobs=None, normalize=False)"
      ]
     },
     "execution_count": 262,
     "metadata": {},
     "output_type": "execute_result"
    }
   ],
   "source": [
    "linreg.fit(X_train, y_train)"
   ]
  },
  {
   "cell_type": "markdown",
   "metadata": {
    "colab_type": "text",
    "id": "qVzCkUAYx5Qs"
   },
   "source": [
    "Make predictions on the testing set"
   ]
  },
  {
   "cell_type": "code",
   "execution_count": 263,
   "metadata": {
    "colab": {},
    "colab_type": "code",
    "id": "h8iJRLNwx7jR"
   },
   "outputs": [],
   "source": [
    "y_pred = linreg.predict(X_test)"
   ]
  },
  {
   "cell_type": "markdown",
   "metadata": {
    "colab_type": "text",
    "id": "_o4ibXrkx-Wm"
   },
   "source": [
    "Compute the MSE of our predictions\n"
   ]
  },
  {
   "cell_type": "code",
   "execution_count": 264,
   "metadata": {
    "colab": {
     "base_uri": "https://localhost:8080/",
     "height": 52
    },
    "colab_type": "code",
    "id": "K3YBFIncyBnV",
    "outputId": "7e0bface-6fc1-424e-8c7e-bfbfd4ebc1cb"
   },
   "outputs": [
    {
     "name": "stdout",
     "output_type": "stream",
     "text": [
      "1827.0883236845937\n",
      "8626331.046979722\n"
     ]
    }
   ],
   "source": [
    "print(metrics.mean_absolute_error(y_test, y_pred))\n",
    "print(metrics.mean_squared_error(y_test, y_pred))"
   ]
  },
  {
   "cell_type": "markdown",
   "metadata": {
    "colab_type": "text",
    "id": "t54hE_FeyVNx"
   },
   "source": [
    "**Cross-validation**\n",
    "\n",
    "Advantages of cross-validation:\n",
    "* More accurate estimate of test error\n",
    "* More \"efficient\" use of data (every observation is used for both training and testing)\n",
    "\n",
    "Goal: Select whether the Newspaper feature should be included in the linear regression model on the advertising dataset\n"
   ]
  },
  {
   "cell_type": "code",
   "execution_count": 259,
   "metadata": {
    "colab": {},
    "colab_type": "code",
    "id": "xHnhjQCcyiSI"
   },
   "outputs": [],
   "source": [
    "from sklearn.model_selection import cross_val_score"
   ]
  },
  {
   "cell_type": "markdown",
   "metadata": {
    "colab_type": "text",
    "id": "_MWiW4rVylA3"
   },
   "source": [
    "\n",
    "# 10-fold cross-validation with all three features"
   ]
  },
  {
   "cell_type": "code",
   "execution_count": null,
   "metadata": {
    "colab": {
     "base_uri": "https://localhost:8080/",
     "height": 35
    },
    "colab_type": "code",
    "id": "36wYHT1Vyt1b",
    "outputId": "2f7b46d5-7fd9-4cee-c9ec-c59de9da58d0"
   },
   "outputs": [],
   "source": [
    "lm = LinearRegression()\n",
    "X = data[['TV', 'Radio', 'Newspaper']]\n",
    "y = data['Sales']\n",
    "scores = cross_val_score(lm, X, y, cv=5, scoring='neg_mean_squared_error')\n",
    "print(-scores)"
   ]
  },
  {
   "cell_type": "markdown",
   "metadata": {
    "colab_type": "text",
    "id": "-1r2EVOOywvT"
   },
   "source": [
    "Calculate the average MSE\n"
   ]
  },
  {
   "cell_type": "code",
   "execution_count": null,
   "metadata": {
    "colab": {
     "base_uri": "https://localhost:8080/",
     "height": 52
    },
    "colab_type": "code",
    "id": "P9zTN4KQzAgS",
    "outputId": "161524c9-fa34-4024-b61a-4e81124d4071"
   },
   "outputs": [],
   "source": [
    "print(-scores.mean())\n",
    "print(scores.std())\n"
   ]
  },
  {
   "cell_type": "markdown",
   "metadata": {
    "colab_type": "text",
    "id": "pWGCC1TtzCZ6"
   },
   "source": [
    "# 10-fold cross-validation with one feature\n"
   ]
  },
  {
   "cell_type": "code",
   "execution_count": null,
   "metadata": {
    "colab": {
     "base_uri": "https://localhost:8080/",
     "height": 88
    },
    "colab_type": "code",
    "id": "2JxdxZT4zFWb",
    "outputId": "9e6dd563-4956-49b4-a2e2-7bc6c80d2575"
   },
   "outputs": [],
   "source": [
    "X = data[['TV']]\n",
    "scores = cross_val_score(lm, X, y, cv=10, scoring='neg_mean_squared_error')\n",
    "print(-scores)\n",
    "print(-scores.mean())\n",
    "print(scores.std())"
   ]
  },
  {
   "cell_type": "code",
   "execution_count": null,
   "metadata": {
    "colab": {
     "base_uri": "https://localhost:8080/",
     "height": 88
    },
    "colab_type": "code",
    "id": "gEQ-4PaF1J6k",
    "outputId": "7c0beb58-8e5f-4e25-afa6-8e0f8c4d3f3f"
   },
   "outputs": [],
   "source": [
    "X = data[['Radio']]\n",
    "scores = cross_val_score(lm, X, y, cv=10, scoring='neg_mean_squared_error')\n",
    "print(-scores)\n",
    "print(-scores.mean())\n",
    "print(scores.std())"
   ]
  },
  {
   "cell_type": "code",
   "execution_count": null,
   "metadata": {
    "colab": {
     "base_uri": "https://localhost:8080/",
     "height": 88
    },
    "colab_type": "code",
    "id": "8R1-LPAx1KuV",
    "outputId": "668a03c2-9daa-4675-8608-dca3169a3838"
   },
   "outputs": [],
   "source": [
    "X = data[['Newspaper']]\n",
    "scores = cross_val_score(lm, X, y, cv=10, scoring='neg_mean_squared_error')\n",
    "print(-scores)\n",
    "print(-scores.mean())\n",
    "print(scores.std())"
   ]
  }
 ],
 "metadata": {
  "colab": {
   "collapsed_sections": [],
   "name": "Copy of Advertising.ipynb",
   "provenance": []
  },
  "kernelspec": {
   "display_name": "Python 3",
   "language": "python",
   "name": "python3"
  },
  "language_info": {
   "codemirror_mode": {
    "name": "ipython",
    "version": 3
   },
   "file_extension": ".py",
   "mimetype": "text/x-python",
   "name": "python",
   "nbconvert_exporter": "python",
   "pygments_lexer": "ipython3",
   "version": "3.7.4"
  }
 },
 "nbformat": 4,
 "nbformat_minor": 1
}
