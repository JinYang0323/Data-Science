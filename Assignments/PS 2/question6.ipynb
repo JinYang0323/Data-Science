{
 "cells": [
  {
   "cell_type": "code",
   "execution_count": 1,
   "metadata": {},
   "outputs": [
    {
     "name": "stderr",
     "output_type": "stream",
     "text": [
      "Loaded gbm 2.1.5\n",
      "\n"
     ]
    }
   ],
   "source": [
    "library(ISLR)\n",
    "library(gbm)\n",
    "library(MASS)\n",
    "\n",
    "set.seed(6)\n",
    "train <- 1:1000\n",
    "Caravan$Purchase <- ifelse(Caravan$Purchase == \"Yes\", 1, 0)\n",
    "Caravan.train <- Caravan[train, ]\n",
    "Caravan.test <- Caravan[-train, ]"
   ]
  },
  {
   "cell_type": "code",
   "execution_count": 2,
   "metadata": {},
   "outputs": [
    {
     "name": "stderr",
     "output_type": "stream",
     "text": [
      "Warning message in gbm.fit(x = x, y = y, offset = offset, distribution = distribution, :\n",
      "“variable 50: PVRAAUT has no variation.”\n",
      "Warning message in gbm.fit(x = x, y = y, offset = offset, distribution = distribution, :\n",
      "“variable 71: AVRAAUT has no variation.”\n"
     ]
    }
   ],
   "source": [
    "set.seed(8)\n",
    "boost.caravan <- gbm(Purchase ~ ., data = Caravan.train, distribution = \"gaussian\", n.trees = 1000, shrinkage = 0.01)"
   ]
  },
  {
   "cell_type": "code",
   "execution_count": 3,
   "metadata": {},
   "outputs": [
    {
     "data": {
      "text/html": [
       "<table>\n",
       "<caption>A data.frame: 85 × 2</caption>\n",
       "<thead>\n",
       "\t<tr><th></th><th scope=col>var</th><th scope=col>rel.inf</th></tr>\n",
       "\t<tr><th></th><th scope=col>&lt;fct&gt;</th><th scope=col>&lt;dbl&gt;</th></tr>\n",
       "</thead>\n",
       "<tbody>\n",
       "\t<tr><th scope=row>PPERSAUT</th><td>PPERSAUT</td><td>13.5323309</td></tr>\n",
       "\t<tr><th scope=row>MKOOPKLA</th><td>MKOOPKLA</td><td>11.2820861</td></tr>\n",
       "\t<tr><th scope=row>MOPLHOOG</th><td>MOPLHOOG</td><td> 6.8274615</td></tr>\n",
       "\t<tr><th scope=row>MBERMIDD</th><td>MBERMIDD</td><td> 5.5332019</td></tr>\n",
       "\t<tr><th scope=row>PBRAND</th><td>PBRAND  </td><td> 4.8598648</td></tr>\n",
       "\t<tr><th scope=row>ABRAND</th><td>ABRAND  </td><td> 4.3433708</td></tr>\n",
       "\t<tr><th scope=row>MGODGE</th><td>MGODGE  </td><td> 4.3318631</td></tr>\n",
       "\t<tr><th scope=row>MINK3045</th><td>MINK3045</td><td> 3.8878807</td></tr>\n",
       "\t<tr><th scope=row>PWAPART</th><td>PWAPART </td><td> 2.6115989</td></tr>\n",
       "\t<tr><th scope=row>MAUT2</th><td>MAUT2   </td><td> 2.5725196</td></tr>\n",
       "\t<tr><th scope=row>MOSTYPE</th><td>MOSTYPE </td><td> 2.5069478</td></tr>\n",
       "\t<tr><th scope=row>MSKB1</th><td>MSKB1   </td><td> 2.3020479</td></tr>\n",
       "\t<tr><th scope=row>MAUT1</th><td>MAUT1   </td><td> 2.2729591</td></tr>\n",
       "\t<tr><th scope=row>MSKA</th><td>MSKA    </td><td> 2.1073570</td></tr>\n",
       "\t<tr><th scope=row>MBERARBG</th><td>MBERARBG</td><td> 2.0224505</td></tr>\n",
       "\t<tr><th scope=row>MFWEKIND</th><td>MFWEKIND</td><td> 1.8839524</td></tr>\n",
       "\t<tr><th scope=row>MSKC</th><td>MSKC    </td><td> 1.8536221</td></tr>\n",
       "\t<tr><th scope=row>MGODPR</th><td>MGODPR  </td><td> 1.7143116</td></tr>\n",
       "\t<tr><th scope=row>MRELGE</th><td>MRELGE  </td><td> 1.7140876</td></tr>\n",
       "\t<tr><th scope=row>MINK7512</th><td>MINK7512</td><td> 1.7132455</td></tr>\n",
       "\t<tr><th scope=row>PBYSTAND</th><td>PBYSTAND</td><td> 1.6844595</td></tr>\n",
       "\t<tr><th scope=row>MGODOV</th><td>MGODOV  </td><td> 1.6444140</td></tr>\n",
       "\t<tr><th scope=row>MBERHOOG</th><td>MBERHOOG</td><td> 1.6049800</td></tr>\n",
       "\t<tr><th scope=row>MINKGEM</th><td>MINKGEM </td><td> 1.1851681</td></tr>\n",
       "\t<tr><th scope=row>MFGEKIND</th><td>MFGEKIND</td><td> 1.1785207</td></tr>\n",
       "\t<tr><th scope=row>MRELOV</th><td>MRELOV  </td><td> 1.0089909</td></tr>\n",
       "\t<tr><th scope=row>MZPART</th><td>MZPART  </td><td> 0.9793643</td></tr>\n",
       "\t<tr><th scope=row>MHHUUR</th><td>MHHUUR  </td><td> 0.8807431</td></tr>\n",
       "\t<tr><th scope=row>MOSHOOFD</th><td>MOSHOOFD</td><td> 0.8668798</td></tr>\n",
       "\t<tr><th scope=row>MGODRK</th><td>MGODRK  </td><td> 0.8282338</td></tr>\n",
       "\t<tr><th scope=row>⋮</th><td>⋮</td><td>⋮</td></tr>\n",
       "\t<tr><th scope=row>PTRACTOR</th><td>PTRACTOR</td><td>0</td></tr>\n",
       "\t<tr><th scope=row>PWERKT</th><td>PWERKT  </td><td>0</td></tr>\n",
       "\t<tr><th scope=row>PBROM</th><td>PBROM   </td><td>0</td></tr>\n",
       "\t<tr><th scope=row>PLEVEN</th><td>PLEVEN  </td><td>0</td></tr>\n",
       "\t<tr><th scope=row>PPERSONG</th><td>PPERSONG</td><td>0</td></tr>\n",
       "\t<tr><th scope=row>PGEZONG</th><td>PGEZONG </td><td>0</td></tr>\n",
       "\t<tr><th scope=row>PWAOREG</th><td>PWAOREG </td><td>0</td></tr>\n",
       "\t<tr><th scope=row>PZEILPL</th><td>PZEILPL </td><td>0</td></tr>\n",
       "\t<tr><th scope=row>PPLEZIER</th><td>PPLEZIER</td><td>0</td></tr>\n",
       "\t<tr><th scope=row>PFIETS</th><td>PFIETS  </td><td>0</td></tr>\n",
       "\t<tr><th scope=row>PINBOED</th><td>PINBOED </td><td>0</td></tr>\n",
       "\t<tr><th scope=row>AWAPART</th><td>AWAPART </td><td>0</td></tr>\n",
       "\t<tr><th scope=row>AWABEDR</th><td>AWABEDR </td><td>0</td></tr>\n",
       "\t<tr><th scope=row>AWALAND</th><td>AWALAND </td><td>0</td></tr>\n",
       "\t<tr><th scope=row>ABESAUT</th><td>ABESAUT </td><td>0</td></tr>\n",
       "\t<tr><th scope=row>AMOTSCO</th><td>AMOTSCO </td><td>0</td></tr>\n",
       "\t<tr><th scope=row>AVRAAUT</th><td>AVRAAUT </td><td>0</td></tr>\n",
       "\t<tr><th scope=row>AAANHANG</th><td>AAANHANG</td><td>0</td></tr>\n",
       "\t<tr><th scope=row>ATRACTOR</th><td>ATRACTOR</td><td>0</td></tr>\n",
       "\t<tr><th scope=row>AWERKT</th><td>AWERKT  </td><td>0</td></tr>\n",
       "\t<tr><th scope=row>ABROM</th><td>ABROM   </td><td>0</td></tr>\n",
       "\t<tr><th scope=row>ALEVEN</th><td>ALEVEN  </td><td>0</td></tr>\n",
       "\t<tr><th scope=row>APERSONG</th><td>APERSONG</td><td>0</td></tr>\n",
       "\t<tr><th scope=row>AGEZONG</th><td>AGEZONG </td><td>0</td></tr>\n",
       "\t<tr><th scope=row>AWAOREG</th><td>AWAOREG </td><td>0</td></tr>\n",
       "\t<tr><th scope=row>AZEILPL</th><td>AZEILPL </td><td>0</td></tr>\n",
       "\t<tr><th scope=row>APLEZIER</th><td>APLEZIER</td><td>0</td></tr>\n",
       "\t<tr><th scope=row>AFIETS</th><td>AFIETS  </td><td>0</td></tr>\n",
       "\t<tr><th scope=row>AINBOED</th><td>AINBOED </td><td>0</td></tr>\n",
       "\t<tr><th scope=row>ABYSTAND</th><td>ABYSTAND</td><td>0</td></tr>\n",
       "</tbody>\n",
       "</table>\n"
      ],
      "text/latex": [
       "A data.frame: 85 × 2\n",
       "\\begin{tabular}{r|ll}\n",
       "  & var & rel.inf\\\\\n",
       "  & <fct> & <dbl>\\\\\n",
       "\\hline\n",
       "\tPPERSAUT & PPERSAUT & 13.5323309\\\\\n",
       "\tMKOOPKLA & MKOOPKLA & 11.2820861\\\\\n",
       "\tMOPLHOOG & MOPLHOOG &  6.8274615\\\\\n",
       "\tMBERMIDD & MBERMIDD &  5.5332019\\\\\n",
       "\tPBRAND & PBRAND   &  4.8598648\\\\\n",
       "\tABRAND & ABRAND   &  4.3433708\\\\\n",
       "\tMGODGE & MGODGE   &  4.3318631\\\\\n",
       "\tMINK3045 & MINK3045 &  3.8878807\\\\\n",
       "\tPWAPART & PWAPART  &  2.6115989\\\\\n",
       "\tMAUT2 & MAUT2    &  2.5725196\\\\\n",
       "\tMOSTYPE & MOSTYPE  &  2.5069478\\\\\n",
       "\tMSKB1 & MSKB1    &  2.3020479\\\\\n",
       "\tMAUT1 & MAUT1    &  2.2729591\\\\\n",
       "\tMSKA & MSKA     &  2.1073570\\\\\n",
       "\tMBERARBG & MBERARBG &  2.0224505\\\\\n",
       "\tMFWEKIND & MFWEKIND &  1.8839524\\\\\n",
       "\tMSKC & MSKC     &  1.8536221\\\\\n",
       "\tMGODPR & MGODPR   &  1.7143116\\\\\n",
       "\tMRELGE & MRELGE   &  1.7140876\\\\\n",
       "\tMINK7512 & MINK7512 &  1.7132455\\\\\n",
       "\tPBYSTAND & PBYSTAND &  1.6844595\\\\\n",
       "\tMGODOV & MGODOV   &  1.6444140\\\\\n",
       "\tMBERHOOG & MBERHOOG &  1.6049800\\\\\n",
       "\tMINKGEM & MINKGEM  &  1.1851681\\\\\n",
       "\tMFGEKIND & MFGEKIND &  1.1785207\\\\\n",
       "\tMRELOV & MRELOV   &  1.0089909\\\\\n",
       "\tMZPART & MZPART   &  0.9793643\\\\\n",
       "\tMHHUUR & MHHUUR   &  0.8807431\\\\\n",
       "\tMOSHOOFD & MOSHOOFD &  0.8668798\\\\\n",
       "\tMGODRK & MGODRK   &  0.8282338\\\\\n",
       "\t⋮ & ⋮ & ⋮\\\\\n",
       "\tPTRACTOR & PTRACTOR & 0\\\\\n",
       "\tPWERKT & PWERKT   & 0\\\\\n",
       "\tPBROM & PBROM    & 0\\\\\n",
       "\tPLEVEN & PLEVEN   & 0\\\\\n",
       "\tPPERSONG & PPERSONG & 0\\\\\n",
       "\tPGEZONG & PGEZONG  & 0\\\\\n",
       "\tPWAOREG & PWAOREG  & 0\\\\\n",
       "\tPZEILPL & PZEILPL  & 0\\\\\n",
       "\tPPLEZIER & PPLEZIER & 0\\\\\n",
       "\tPFIETS & PFIETS   & 0\\\\\n",
       "\tPINBOED & PINBOED  & 0\\\\\n",
       "\tAWAPART & AWAPART  & 0\\\\\n",
       "\tAWABEDR & AWABEDR  & 0\\\\\n",
       "\tAWALAND & AWALAND  & 0\\\\\n",
       "\tABESAUT & ABESAUT  & 0\\\\\n",
       "\tAMOTSCO & AMOTSCO  & 0\\\\\n",
       "\tAVRAAUT & AVRAAUT  & 0\\\\\n",
       "\tAAANHANG & AAANHANG & 0\\\\\n",
       "\tATRACTOR & ATRACTOR & 0\\\\\n",
       "\tAWERKT & AWERKT   & 0\\\\\n",
       "\tABROM & ABROM    & 0\\\\\n",
       "\tALEVEN & ALEVEN   & 0\\\\\n",
       "\tAPERSONG & APERSONG & 0\\\\\n",
       "\tAGEZONG & AGEZONG  & 0\\\\\n",
       "\tAWAOREG & AWAOREG  & 0\\\\\n",
       "\tAZEILPL & AZEILPL  & 0\\\\\n",
       "\tAPLEZIER & APLEZIER & 0\\\\\n",
       "\tAFIETS & AFIETS   & 0\\\\\n",
       "\tAINBOED & AINBOED  & 0\\\\\n",
       "\tABYSTAND & ABYSTAND & 0\\\\\n",
       "\\end{tabular}\n"
      ],
      "text/markdown": [
       "\n",
       "A data.frame: 85 × 2\n",
       "\n",
       "| <!--/--> | var &lt;fct&gt; | rel.inf &lt;dbl&gt; |\n",
       "|---|---|---|\n",
       "| PPERSAUT | PPERSAUT | 13.5323309 |\n",
       "| MKOOPKLA | MKOOPKLA | 11.2820861 |\n",
       "| MOPLHOOG | MOPLHOOG |  6.8274615 |\n",
       "| MBERMIDD | MBERMIDD |  5.5332019 |\n",
       "| PBRAND | PBRAND   |  4.8598648 |\n",
       "| ABRAND | ABRAND   |  4.3433708 |\n",
       "| MGODGE | MGODGE   |  4.3318631 |\n",
       "| MINK3045 | MINK3045 |  3.8878807 |\n",
       "| PWAPART | PWAPART  |  2.6115989 |\n",
       "| MAUT2 | MAUT2    |  2.5725196 |\n",
       "| MOSTYPE | MOSTYPE  |  2.5069478 |\n",
       "| MSKB1 | MSKB1    |  2.3020479 |\n",
       "| MAUT1 | MAUT1    |  2.2729591 |\n",
       "| MSKA | MSKA     |  2.1073570 |\n",
       "| MBERARBG | MBERARBG |  2.0224505 |\n",
       "| MFWEKIND | MFWEKIND |  1.8839524 |\n",
       "| MSKC | MSKC     |  1.8536221 |\n",
       "| MGODPR | MGODPR   |  1.7143116 |\n",
       "| MRELGE | MRELGE   |  1.7140876 |\n",
       "| MINK7512 | MINK7512 |  1.7132455 |\n",
       "| PBYSTAND | PBYSTAND |  1.6844595 |\n",
       "| MGODOV | MGODOV   |  1.6444140 |\n",
       "| MBERHOOG | MBERHOOG |  1.6049800 |\n",
       "| MINKGEM | MINKGEM  |  1.1851681 |\n",
       "| MFGEKIND | MFGEKIND |  1.1785207 |\n",
       "| MRELOV | MRELOV   |  1.0089909 |\n",
       "| MZPART | MZPART   |  0.9793643 |\n",
       "| MHHUUR | MHHUUR   |  0.8807431 |\n",
       "| MOSHOOFD | MOSHOOFD |  0.8668798 |\n",
       "| MGODRK | MGODRK   |  0.8282338 |\n",
       "| ⋮ | ⋮ | ⋮ |\n",
       "| PTRACTOR | PTRACTOR | 0 |\n",
       "| PWERKT | PWERKT   | 0 |\n",
       "| PBROM | PBROM    | 0 |\n",
       "| PLEVEN | PLEVEN   | 0 |\n",
       "| PPERSONG | PPERSONG | 0 |\n",
       "| PGEZONG | PGEZONG  | 0 |\n",
       "| PWAOREG | PWAOREG  | 0 |\n",
       "| PZEILPL | PZEILPL  | 0 |\n",
       "| PPLEZIER | PPLEZIER | 0 |\n",
       "| PFIETS | PFIETS   | 0 |\n",
       "| PINBOED | PINBOED  | 0 |\n",
       "| AWAPART | AWAPART  | 0 |\n",
       "| AWABEDR | AWABEDR  | 0 |\n",
       "| AWALAND | AWALAND  | 0 |\n",
       "| ABESAUT | ABESAUT  | 0 |\n",
       "| AMOTSCO | AMOTSCO  | 0 |\n",
       "| AVRAAUT | AVRAAUT  | 0 |\n",
       "| AAANHANG | AAANHANG | 0 |\n",
       "| ATRACTOR | ATRACTOR | 0 |\n",
       "| AWERKT | AWERKT   | 0 |\n",
       "| ABROM | ABROM    | 0 |\n",
       "| ALEVEN | ALEVEN   | 0 |\n",
       "| APERSONG | APERSONG | 0 |\n",
       "| AGEZONG | AGEZONG  | 0 |\n",
       "| AWAOREG | AWAOREG  | 0 |\n",
       "| AZEILPL | AZEILPL  | 0 |\n",
       "| APLEZIER | APLEZIER | 0 |\n",
       "| AFIETS | AFIETS   | 0 |\n",
       "| AINBOED | AINBOED  | 0 |\n",
       "| ABYSTAND | ABYSTAND | 0 |\n",
       "\n"
      ],
      "text/plain": [
       "         var      rel.inf   \n",
       "PPERSAUT PPERSAUT 13.5323309\n",
       "MKOOPKLA MKOOPKLA 11.2820861\n",
       "MOPLHOOG MOPLHOOG  6.8274615\n",
       "MBERMIDD MBERMIDD  5.5332019\n",
       "PBRAND   PBRAND    4.8598648\n",
       "ABRAND   ABRAND    4.3433708\n",
       "MGODGE   MGODGE    4.3318631\n",
       "MINK3045 MINK3045  3.8878807\n",
       "PWAPART  PWAPART   2.6115989\n",
       "MAUT2    MAUT2     2.5725196\n",
       "MOSTYPE  MOSTYPE   2.5069478\n",
       "MSKB1    MSKB1     2.3020479\n",
       "MAUT1    MAUT1     2.2729591\n",
       "MSKA     MSKA      2.1073570\n",
       "MBERARBG MBERARBG  2.0224505\n",
       "MFWEKIND MFWEKIND  1.8839524\n",
       "MSKC     MSKC      1.8536221\n",
       "MGODPR   MGODPR    1.7143116\n",
       "MRELGE   MRELGE    1.7140876\n",
       "MINK7512 MINK7512  1.7132455\n",
       "PBYSTAND PBYSTAND  1.6844595\n",
       "MGODOV   MGODOV    1.6444140\n",
       "MBERHOOG MBERHOOG  1.6049800\n",
       "MINKGEM  MINKGEM   1.1851681\n",
       "MFGEKIND MFGEKIND  1.1785207\n",
       "MRELOV   MRELOV    1.0089909\n",
       "MZPART   MZPART    0.9793643\n",
       "MHHUUR   MHHUUR    0.8807431\n",
       "MOSHOOFD MOSHOOFD  0.8668798\n",
       "MGODRK   MGODRK    0.8282338\n",
       "⋮        ⋮        ⋮         \n",
       "PTRACTOR PTRACTOR 0         \n",
       "PWERKT   PWERKT   0         \n",
       "PBROM    PBROM    0         \n",
       "PLEVEN   PLEVEN   0         \n",
       "PPERSONG PPERSONG 0         \n",
       "PGEZONG  PGEZONG  0         \n",
       "PWAOREG  PWAOREG  0         \n",
       "PZEILPL  PZEILPL  0         \n",
       "PPLEZIER PPLEZIER 0         \n",
       "PFIETS   PFIETS   0         \n",
       "PINBOED  PINBOED  0         \n",
       "AWAPART  AWAPART  0         \n",
       "AWABEDR  AWABEDR  0         \n",
       "AWALAND  AWALAND  0         \n",
       "ABESAUT  ABESAUT  0         \n",
       "AMOTSCO  AMOTSCO  0         \n",
       "AVRAAUT  AVRAAUT  0         \n",
       "AAANHANG AAANHANG 0         \n",
       "ATRACTOR ATRACTOR 0         \n",
       "AWERKT   AWERKT   0         \n",
       "ABROM    ABROM    0         \n",
       "ALEVEN   ALEVEN   0         \n",
       "APERSONG APERSONG 0         \n",
       "AGEZONG  AGEZONG  0         \n",
       "AWAOREG  AWAOREG  0         \n",
       "AZEILPL  AZEILPL  0         \n",
       "APLEZIER APLEZIER 0         \n",
       "AFIETS   AFIETS   0         \n",
       "AINBOED  AINBOED  0         \n",
       "ABYSTAND ABYSTAND 0         "
      ]
     },
     "metadata": {},
     "output_type": "display_data"
    },
    {
     "data": {
      "image/png": "[encoded data removed]",
      "text/plain": [
       "plot without title"
      ]
     },
     "metadata": {
      "image/png": {
       "height": 420,
       "width": 420
      },
      "text/plain": {
       "height": 420,
       "width": 420
      }
     },
     "output_type": "display_data"
    }
   ],
   "source": [
    "summary(boost.caravan)"
   ]
  },
  {
   "cell_type": "code",
   "execution_count": 4,
   "metadata": {},
   "outputs": [
    {
     "data": {
      "text/plain": [
       "   pred.test\n",
       "       0    1\n",
       "  0 4498   35\n",
       "  1  279   10"
      ]
     },
     "metadata": {},
     "output_type": "display_data"
    }
   ],
   "source": [
    "probs.test <- predict(boost.caravan, Caravan.test, n.trees = 1000, type = \"response\")\n",
    "pred.test <- ifelse(probs.test > 0.2, 1, 0)\n",
    "table(Caravan.test$Purchase, pred.test)"
   ]
  },
  {
   "cell_type": "code",
   "execution_count": 5,
   "metadata": {},
   "outputs": [
    {
     "name": "stderr",
     "output_type": "stream",
     "text": [
      "Warning message:\n",
      "“glm.fit: fitted probabilities numerically 0 or 1 occurred”\n"
     ]
    }
   ],
   "source": [
    "logit.caravan <- glm(Purchase ~ ., data = Caravan.train, family = \"binomial\")\n"
   ]
  },
  {
   "cell_type": "code",
   "execution_count": 6,
   "metadata": {},
   "outputs": [
    {
     "name": "stderr",
     "output_type": "stream",
     "text": [
      "Warning message in predict.lm(object, newdata, se.fit, scale = 1, type = if (type == :\n",
      "“prediction from a rank-deficient fit may be misleading”\n"
     ]
    }
   ],
   "source": [
    "probs.test2 <- predict(logit.caravan, Caravan.test, type = \"response\")"
   ]
  },
  {
   "cell_type": "code",
   "execution_count": 7,
   "metadata": {},
   "outputs": [
    {
     "data": {
      "text/plain": [
       "   pred.test2\n",
       "       0    1\n",
       "  0 4498   35\n",
       "  1  279   10"
      ]
     },
     "metadata": {},
     "output_type": "display_data"
    }
   ],
   "source": [
    "pred.test2 <- ifelse(probs.test > 0.2, 1, 0)\n",
    "table(Caravan.test$Purchase, pred.test2)"
   ]
  },
  {
   "cell_type": "code",
   "execution_count": null,
   "metadata": {},
   "outputs": [],
   "source": [
    "cv.carseats <- cv.tree(tree.carseats)\n",
    "plot(cv.carseats$size, cv.carseats$dev, type = \"b\")\n",
    "tree.min <- which.min(cv.carseats$dev)\n",
    "points(tree.min, cv.carseats$dev[tree.min], col = \"red\", cex = 2, pch = 20)"
   ]
  }
 ],
 "metadata": {
  "kernelspec": {
   "display_name": "R",
   "language": "R",
   "name": "ir"
  },
  "language_info": {
   "codemirror_mode": "r",
   "file_extension": ".r",
   "mimetype": "text/x-r-source",
   "name": "R",
   "pygments_lexer": "r",
   "version": "3.6.1"
  }
 },
 "nbformat": 4,
 "nbformat_minor": 2
}
